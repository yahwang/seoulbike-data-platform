{
 "cells": [
  {
   "cell_type": "markdown",
   "metadata": {},
   "source": [
    "## 대여소 정보 전처리"
   ]
  },
  {
   "cell_type": "markdown",
   "metadata": {},
   "source": [
    "대여소정보 API와 공공데이터가 최신화되어 있지 않아 크롤링된 정보롤 활용한다.\n",
    "\n",
    "참고 : https://yahwang.github.io/posts/5"
   ]
  },
  {
   "cell_type": "markdown",
   "metadata": {},
   "source": [
    "> 주소 기반으로 구단위 정보 정리"
   ]
  },
  {
   "cell_type": "code",
   "execution_count": 1,
   "metadata": {},
   "outputs": [],
   "source": [
    "import pandas as pd"
   ]
  },
  {
   "cell_type": "code",
   "execution_count": 2,
   "metadata": {},
   "outputs": [],
   "source": [
    "df = pd.read_csv('crawled_bike_loc_info.csv')"
   ]
  },
  {
   "cell_type": "code",
   "execution_count": 3,
   "metadata": {},
   "outputs": [],
   "source": [
    "df.columns = ['CONTENT_ID', 'CONTENT_NM', 'CRADLE_COUNT', 'ADDRESS','LATITUDE', 'LONGITUDE' ]"
   ]
  },
  {
   "cell_type": "code",
   "execution_count": 4,
   "metadata": {},
   "outputs": [
    {
     "data": {
      "text/html": [
       "<div>\n",
       "<style scoped>\n",
       "    .dataframe tbody tr th:only-of-type {\n",
       "        vertical-align: middle;\n",
       "    }\n",
       "\n",
       "    .dataframe tbody tr th {\n",
       "        vertical-align: top;\n",
       "    }\n",
       "\n",
       "    .dataframe thead th {\n",
       "        text-align: right;\n",
       "    }\n",
       "</style>\n",
       "<table border=\"1\" class=\"dataframe\">\n",
       "  <thead>\n",
       "    <tr style=\"text-align: right;\">\n",
       "      <th></th>\n",
       "      <th>CONTENT_ID</th>\n",
       "      <th>CONTENT_NM</th>\n",
       "      <th>CRADLE_COUNT</th>\n",
       "      <th>ADDRESS</th>\n",
       "      <th>LATITUDE</th>\n",
       "      <th>LONGITUDE</th>\n",
       "    </tr>\n",
       "  </thead>\n",
       "  <tbody>\n",
       "    <tr>\n",
       "      <th>0</th>\n",
       "      <td>1001</td>\n",
       "      <td>광진교 남단 사거리(디지털프라자앞)</td>\n",
       "      <td>15</td>\n",
       "      <td>서울특별시 강동구 구천면로 171 376 남단사거리</td>\n",
       "      <td>37.541805</td>\n",
       "      <td>127.124718</td>\n",
       "    </tr>\n",
       "    <tr>\n",
       "      <th>1</th>\n",
       "      <td>1002</td>\n",
       "      <td>해공공원(천호동)</td>\n",
       "      <td>10</td>\n",
       "      <td>서울특별시 강동구 올림픽로 702 265</td>\n",
       "      <td>37.545219</td>\n",
       "      <td>127.125916</td>\n",
       "    </tr>\n",
       "    <tr>\n",
       "      <th>2</th>\n",
       "      <td>1003</td>\n",
       "      <td>해공도서관앞</td>\n",
       "      <td>20</td>\n",
       "      <td>서울특별시 강동구 올림픽로 702 367</td>\n",
       "      <td>37.543915</td>\n",
       "      <td>127.125458</td>\n",
       "    </tr>\n",
       "    <tr>\n",
       "      <th>3</th>\n",
       "      <td>1004</td>\n",
       "      <td>삼성광나루아파트 버스정류장</td>\n",
       "      <td>10</td>\n",
       "      <td>서울특별시 강동구 상암로3길 77 암사동 534</td>\n",
       "      <td>37.553349</td>\n",
       "      <td>127.128860</td>\n",
       "    </tr>\n",
       "    <tr>\n",
       "      <th>4</th>\n",
       "      <td>1006</td>\n",
       "      <td>롯데캐슬 115동앞</td>\n",
       "      <td>15</td>\n",
       "      <td>서울특별시 강동구 양재대로 1665 명일동 304</td>\n",
       "      <td>37.554920</td>\n",
       "      <td>127.142799</td>\n",
       "    </tr>\n",
       "  </tbody>\n",
       "</table>\n",
       "</div>"
      ],
      "text/plain": [
       "   CONTENT_ID           CONTENT_NM  CRADLE_COUNT  \\\n",
       "0        1001  광진교 남단 사거리(디지털프라자앞)            15   \n",
       "1        1002            해공공원(천호동)            10   \n",
       "2        1003               해공도서관앞            20   \n",
       "3        1004       삼성광나루아파트 버스정류장            10   \n",
       "4        1006           롯데캐슬 115동앞            15   \n",
       "\n",
       "                        ADDRESS   LATITUDE   LONGITUDE  \n",
       "0  서울특별시 강동구 구천면로 171 376 남단사거리  37.541805  127.124718  \n",
       "1        서울특별시 강동구 올림픽로 702 265  37.545219  127.125916  \n",
       "2        서울특별시 강동구 올림픽로 702 367  37.543915  127.125458  \n",
       "3    서울특별시 강동구 상암로3길 77 암사동 534  37.553349  127.128860  \n",
       "4   서울특별시 강동구 양재대로 1665 명일동 304  37.554920  127.142799  "
      ]
     },
     "execution_count": 4,
     "metadata": {},
     "output_type": "execute_result"
    }
   ],
   "source": [
    "df.head()"
   ]
  },
  {
   "cell_type": "markdown",
   "metadata": {},
   "source": [
    "###  구 처리"
   ]
  },
  {
   "cell_type": "code",
   "execution_count": 5,
   "metadata": {},
   "outputs": [],
   "source": [
    "df['ADDR_GU'] = df['ADDRESS'].map(lambda x: x.split()[1])"
   ]
  },
  {
   "cell_type": "code",
   "execution_count": 6,
   "metadata": {},
   "outputs": [
    {
     "data": {
      "text/html": [
       "<div>\n",
       "<style scoped>\n",
       "    .dataframe tbody tr th:only-of-type {\n",
       "        vertical-align: middle;\n",
       "    }\n",
       "\n",
       "    .dataframe tbody tr th {\n",
       "        vertical-align: top;\n",
       "    }\n",
       "\n",
       "    .dataframe thead th {\n",
       "        text-align: right;\n",
       "    }\n",
       "</style>\n",
       "<table border=\"1\" class=\"dataframe\">\n",
       "  <thead>\n",
       "    <tr style=\"text-align: right;\">\n",
       "      <th></th>\n",
       "      <th>CONTENT_ID</th>\n",
       "      <th>CONTENT_NM</th>\n",
       "      <th>CRADLE_COUNT</th>\n",
       "      <th>ADDRESS</th>\n",
       "      <th>LATITUDE</th>\n",
       "      <th>LONGITUDE</th>\n",
       "      <th>ADDR_GU</th>\n",
       "    </tr>\n",
       "  </thead>\n",
       "  <tbody>\n",
       "    <tr>\n",
       "      <th>0</th>\n",
       "      <td>1001</td>\n",
       "      <td>광진교 남단 사거리(디지털프라자앞)</td>\n",
       "      <td>15</td>\n",
       "      <td>서울특별시 강동구 구천면로 171 376 남단사거리</td>\n",
       "      <td>37.541805</td>\n",
       "      <td>127.124718</td>\n",
       "      <td>강동구</td>\n",
       "    </tr>\n",
       "    <tr>\n",
       "      <th>1</th>\n",
       "      <td>1002</td>\n",
       "      <td>해공공원(천호동)</td>\n",
       "      <td>10</td>\n",
       "      <td>서울특별시 강동구 올림픽로 702 265</td>\n",
       "      <td>37.545219</td>\n",
       "      <td>127.125916</td>\n",
       "      <td>강동구</td>\n",
       "    </tr>\n",
       "    <tr>\n",
       "      <th>2</th>\n",
       "      <td>1003</td>\n",
       "      <td>해공도서관앞</td>\n",
       "      <td>20</td>\n",
       "      <td>서울특별시 강동구 올림픽로 702 367</td>\n",
       "      <td>37.543915</td>\n",
       "      <td>127.125458</td>\n",
       "      <td>강동구</td>\n",
       "    </tr>\n",
       "    <tr>\n",
       "      <th>3</th>\n",
       "      <td>1004</td>\n",
       "      <td>삼성광나루아파트 버스정류장</td>\n",
       "      <td>10</td>\n",
       "      <td>서울특별시 강동구 상암로3길 77 암사동 534</td>\n",
       "      <td>37.553349</td>\n",
       "      <td>127.128860</td>\n",
       "      <td>강동구</td>\n",
       "    </tr>\n",
       "    <tr>\n",
       "      <th>4</th>\n",
       "      <td>1006</td>\n",
       "      <td>롯데캐슬 115동앞</td>\n",
       "      <td>15</td>\n",
       "      <td>서울특별시 강동구 양재대로 1665 명일동 304</td>\n",
       "      <td>37.554920</td>\n",
       "      <td>127.142799</td>\n",
       "      <td>강동구</td>\n",
       "    </tr>\n",
       "  </tbody>\n",
       "</table>\n",
       "</div>"
      ],
      "text/plain": [
       "   CONTENT_ID           CONTENT_NM  CRADLE_COUNT  \\\n",
       "0        1001  광진교 남단 사거리(디지털프라자앞)            15   \n",
       "1        1002            해공공원(천호동)            10   \n",
       "2        1003               해공도서관앞            20   \n",
       "3        1004       삼성광나루아파트 버스정류장            10   \n",
       "4        1006           롯데캐슬 115동앞            15   \n",
       "\n",
       "                        ADDRESS   LATITUDE   LONGITUDE ADDR_GU  \n",
       "0  서울특별시 강동구 구천면로 171 376 남단사거리  37.541805  127.124718     강동구  \n",
       "1        서울특별시 강동구 올림픽로 702 265  37.545219  127.125916     강동구  \n",
       "2        서울특별시 강동구 올림픽로 702 367  37.543915  127.125458     강동구  \n",
       "3    서울특별시 강동구 상암로3길 77 암사동 534  37.553349  127.128860     강동구  \n",
       "4   서울특별시 강동구 양재대로 1665 명일동 304  37.554920  127.142799     강동구  "
      ]
     },
     "execution_count": 6,
     "metadata": {},
     "output_type": "execute_result"
    }
   ],
   "source": [
    "df.head()"
   ]
  },
  {
   "cell_type": "markdown",
   "metadata": {},
   "source": [
    "### 주소 오류로 인한 오류"
   ]
  },
  {
   "cell_type": "code",
   "execution_count": 8,
   "metadata": {},
   "outputs": [
    {
     "data": {
      "text/plain": [
       "CONTENT_ID      61\n",
       "CONTENT_NM      61\n",
       "CRADLE_COUNT    61\n",
       "ADDRESS         61\n",
       "LATITUDE        61\n",
       "LONGITUDE       61\n",
       "ADDR_GU         61\n",
       "dtype: int64"
      ]
     },
     "execution_count": 8,
     "metadata": {},
     "output_type": "execute_result"
    }
   ],
   "source": [
    "df[df['ADDR_GU'].map(lambda x: x[-1]) != '구'].count()"
   ]
  },
  {
   "cell_type": "code",
   "execution_count": 9,
   "metadata": {},
   "outputs": [],
   "source": [
    "error_df = df.loc[ df[df['ADDR_GU'].map(lambda x: x[-1]) != '구'].index ]"
   ]
  },
  {
   "cell_type": "code",
   "execution_count": 10,
   "metadata": {},
   "outputs": [
    {
     "data": {
      "text/plain": [
       "array(['성내동', '상일동', '명일동', '길동', '암사동', '고덕동', '강일동', '양재대로', '서울',\n",
       "       '중화동', '면목동', '상봉동', '미아동', '수유동', '번동', '동일로', '창동', '가산동', '시흥동',\n",
       "       '독산동', '사당동', '관악로', '서초동', '잠원동', '신원동', '양재동', '염곡동', '상암동',\n",
       "       '진관동', '응암동', '녹번동', '불광로', '불광동', '증산동', '역촌동', '갈현동'],\n",
       "      dtype=object)"
      ]
     },
     "execution_count": 10,
     "metadata": {},
     "output_type": "execute_result"
    }
   ],
   "source": [
    "error_df['ADDR_GU'].unique()"
   ]
  },
  {
   "cell_type": "markdown",
   "metadata": {},
   "source": [
    "###  오류 처리"
   ]
  },
  {
   "cell_type": "code",
   "execution_count": 11,
   "metadata": {},
   "outputs": [],
   "source": [
    "addr_dict = {}\n",
    "for addr in error_df['ADDR_GU'].unique():\n",
    "    if addr in ['진관동','녹번동','불광동','불광로','갈현동','역촌동','응암동','증산동']:\n",
    "        addr_dict[addr] = '은평구'\n",
    "    if addr in ['성내동','상일동','명일동','길동','암사동','고덕동','강일동']:\n",
    "        addr_dict[addr] = '강동구'\n",
    "    if addr in ['중화동', '면목동', '상봉동']:\n",
    "        addr_dict[addr] = '중랑구'\n",
    "    if addr in ['미아동','수유동','번동']:\n",
    "        addr_dict[addr] = '강북구'\n",
    "    if addr in ['가산동','시흥동','독산동']:\n",
    "        addr_dict[addr] = '금천구'\n",
    "    if addr in ['사당동']:\n",
    "        addr_dict[addr] = '동작구'\n",
    "    if addr in ['서초동', '잠원동', '신원동', '양재동', '염곡동']:\n",
    "        addr_dict[addr] = '서초구'\n",
    "    if addr in ['상암동']:\n",
    "        addr_dict[addr] = '마포구'"
   ]
  },
  {
   "cell_type": "code",
   "execution_count": 12,
   "metadata": {},
   "outputs": [],
   "source": [
    "def change_addr(addr, addr_dict):\n",
    "    if addr in addr_dict.keys():\n",
    "        return addr_dict[addr]\n",
    "    else:\n",
    "        return addr\n",
    "\n",
    "df.loc[ df[df['ADDR_GU'].map(lambda x: x[-1]) != '구'].index, 'ADDR_GU'] = error_df['ADDR_GU'].map(lambda addr: change_addr(addr, addr_dict))"
   ]
  },
  {
   "cell_type": "markdown",
   "metadata": {},
   "source": [
    "#### 나머지 오류 확인 후 처리"
   ]
  },
  {
   "cell_type": "code",
   "execution_count": 14,
   "metadata": {},
   "outputs": [
    {
     "data": {
      "text/html": [
       "<div>\n",
       "<style scoped>\n",
       "    .dataframe tbody tr th:only-of-type {\n",
       "        vertical-align: middle;\n",
       "    }\n",
       "\n",
       "    .dataframe tbody tr th {\n",
       "        vertical-align: top;\n",
       "    }\n",
       "\n",
       "    .dataframe thead th {\n",
       "        text-align: right;\n",
       "    }\n",
       "</style>\n",
       "<table border=\"1\" class=\"dataframe\">\n",
       "  <thead>\n",
       "    <tr style=\"text-align: right;\">\n",
       "      <th></th>\n",
       "      <th>CONTENT_ID</th>\n",
       "      <th>CONTENT_NM</th>\n",
       "      <th>CRADLE_COUNT</th>\n",
       "      <th>ADDRESS</th>\n",
       "      <th>LATITUDE</th>\n",
       "      <th>LONGITUDE</th>\n",
       "      <th>ADDR_GU</th>\n",
       "    </tr>\n",
       "  </thead>\n",
       "  <tbody>\n",
       "    <tr>\n",
       "      <th>44</th>\n",
       "      <td>1044</td>\n",
       "      <td>굽은다리역</td>\n",
       "      <td>15</td>\n",
       "      <td>서울특별시  양재대로 1572 굽은다리역</td>\n",
       "      <td>37.545399</td>\n",
       "      <td>127.142601</td>\n",
       "      <td>양재대로</td>\n",
       "    </tr>\n",
       "    <tr>\n",
       "      <th>209</th>\n",
       "      <td>1258</td>\n",
       "      <td>가락미륭아파트 앞</td>\n",
       "      <td>10</td>\n",
       "      <td>서울특별시 서울 송파구 가락동 195-4 가락미륭아파트 앞</td>\n",
       "      <td>37.493198</td>\n",
       "      <td>127.128998</td>\n",
       "      <td>서울</td>\n",
       "    </tr>\n",
       "    <tr>\n",
       "      <th>463</th>\n",
       "      <td>1655</td>\n",
       "      <td>공릉1단지아파트</td>\n",
       "      <td>15</td>\n",
       "      <td>서울특별시 동일로 1127 공릉1단지아파트</td>\n",
       "      <td>37.631111</td>\n",
       "      <td>127.070160</td>\n",
       "      <td>동일로</td>\n",
       "    </tr>\n",
       "    <tr>\n",
       "      <th>519</th>\n",
       "      <td>1721</td>\n",
       "      <td>창동역 2번출구</td>\n",
       "      <td>12</td>\n",
       "      <td>서울특별시 창동 74-2  창동역 2번출구</td>\n",
       "      <td>37.653015</td>\n",
       "      <td>127.046997</td>\n",
       "      <td>창동</td>\n",
       "    </tr>\n",
       "    <tr>\n",
       "      <th>757</th>\n",
       "      <td>2160</td>\n",
       "      <td>관악구 보건소</td>\n",
       "      <td>15</td>\n",
       "      <td>서울특별시 관악로 145 관악구 보건소</td>\n",
       "      <td>37.478626</td>\n",
       "      <td>126.951294</td>\n",
       "      <td>관악로</td>\n",
       "    </tr>\n",
       "  </tbody>\n",
       "</table>\n",
       "</div>"
      ],
      "text/plain": [
       "     CONTENT_ID CONTENT_NM  CRADLE_COUNT                           ADDRESS  \\\n",
       "44         1044      굽은다리역            15            서울특별시  양재대로 1572 굽은다리역   \n",
       "209        1258  가락미륭아파트 앞            10  서울특별시 서울 송파구 가락동 195-4 가락미륭아파트 앞   \n",
       "463        1655   공릉1단지아파트            15           서울특별시 동일로 1127 공릉1단지아파트   \n",
       "519        1721   창동역 2번출구            12           서울특별시 창동 74-2  창동역 2번출구   \n",
       "757        2160    관악구 보건소            15             서울특별시 관악로 145 관악구 보건소   \n",
       "\n",
       "      LATITUDE   LONGITUDE ADDR_GU  \n",
       "44   37.545399  127.142601    양재대로  \n",
       "209  37.493198  127.128998      서울  \n",
       "463  37.631111  127.070160     동일로  \n",
       "519  37.653015  127.046997      창동  \n",
       "757  37.478626  126.951294     관악로  "
      ]
     },
     "execution_count": 14,
     "metadata": {},
     "output_type": "execute_result"
    }
   ],
   "source": [
    "df.loc[ df[df['ADDR_GU'].map(lambda x: x[-1]) != '구'].index ]"
   ]
  },
  {
   "cell_type": "code",
   "execution_count": 15,
   "metadata": {},
   "outputs": [],
   "source": [
    "df.loc[44,'ADDR_GU'] = '강동구'\n",
    "df.loc[209,'ADDR_GU'] = '송파구'\n",
    "df.loc[463,'ADDR_GU'] = '노원구'\n",
    "df.loc[519,'ADDR_GU'] = '도봉구'\n",
    "df.loc[757,'ADDR_GU'] = '관악구'"
   ]
  },
  {
   "cell_type": "code",
   "execution_count": 16,
   "metadata": {},
   "outputs": [
    {
     "data": {
      "text/html": [
       "<div>\n",
       "<style scoped>\n",
       "    .dataframe tbody tr th:only-of-type {\n",
       "        vertical-align: middle;\n",
       "    }\n",
       "\n",
       "    .dataframe tbody tr th {\n",
       "        vertical-align: top;\n",
       "    }\n",
       "\n",
       "    .dataframe thead th {\n",
       "        text-align: right;\n",
       "    }\n",
       "</style>\n",
       "<table border=\"1\" class=\"dataframe\">\n",
       "  <thead>\n",
       "    <tr style=\"text-align: right;\">\n",
       "      <th></th>\n",
       "      <th>CONTENT_ID</th>\n",
       "      <th>CONTENT_NM</th>\n",
       "      <th>CRADLE_COUNT</th>\n",
       "      <th>ADDRESS</th>\n",
       "      <th>LATITUDE</th>\n",
       "      <th>LONGITUDE</th>\n",
       "      <th>ADDR_GU</th>\n",
       "    </tr>\n",
       "  </thead>\n",
       "  <tbody>\n",
       "  </tbody>\n",
       "</table>\n",
       "</div>"
      ],
      "text/plain": [
       "Empty DataFrame\n",
       "Columns: [CONTENT_ID, CONTENT_NM, CRADLE_COUNT, ADDRESS, LATITUDE, LONGITUDE, ADDR_GU]\n",
       "Index: []"
      ]
     },
     "execution_count": 16,
     "metadata": {},
     "output_type": "execute_result"
    }
   ],
   "source": [
    "df[df['ADDR_GU'].map(lambda x: x[-1]) != '구']"
   ]
  },
  {
   "cell_type": "markdown",
   "metadata": {},
   "source": [
    "### 주의사항 : CONTENT_ID가 없는 경우"
   ]
  },
  {
   "cell_type": "code",
   "execution_count": 28,
   "metadata": {},
   "outputs": [
    {
     "data": {
      "text/html": [
       "<div>\n",
       "<style scoped>\n",
       "    .dataframe tbody tr th:only-of-type {\n",
       "        vertical-align: middle;\n",
       "    }\n",
       "\n",
       "    .dataframe tbody tr th {\n",
       "        vertical-align: top;\n",
       "    }\n",
       "\n",
       "    .dataframe thead th {\n",
       "        text-align: right;\n",
       "    }\n",
       "</style>\n",
       "<table border=\"1\" class=\"dataframe\">\n",
       "  <thead>\n",
       "    <tr style=\"text-align: right;\">\n",
       "      <th></th>\n",
       "      <th>CONTENT_ID</th>\n",
       "      <th>CONTENT_NM</th>\n",
       "      <th>CRADLE_COUNT</th>\n",
       "      <th>ADDRESS</th>\n",
       "      <th>LATITUDE</th>\n",
       "      <th>LONGITUDE</th>\n",
       "      <th>ADDR_GU</th>\n",
       "    </tr>\n",
       "  </thead>\n",
       "  <tbody>\n",
       "    <tr>\n",
       "      <th>1526</th>\n",
       "      <td>0</td>\n",
       "      <td>위트콤</td>\n",
       "      <td>14</td>\n",
       "      <td>서울특별시 서초구 방배로 110 위트콤</td>\n",
       "      <td>0.0</td>\n",
       "      <td>0.0</td>\n",
       "      <td>서초구</td>\n",
       "    </tr>\n",
       "    <tr>\n",
       "      <th>1527</th>\n",
       "      <td>0</td>\n",
       "      <td>위트콤공장</td>\n",
       "      <td>66</td>\n",
       "      <td>서울특별시 서초구 방배로 110 석교빌딩 4층</td>\n",
       "      <td>0.0</td>\n",
       "      <td>0.0</td>\n",
       "      <td>서초구</td>\n",
       "    </tr>\n",
       "  </tbody>\n",
       "</table>\n",
       "</div>"
      ],
      "text/plain": [
       "      CONTENT_ID CONTENT_NM  CRADLE_COUNT                    ADDRESS  \\\n",
       "1526           0        위트콤            14      서울특별시 서초구 방배로 110 위트콤   \n",
       "1527           0      위트콤공장            66  서울특별시 서초구 방배로 110 석교빌딩 4층   \n",
       "\n",
       "      LATITUDE  LONGITUDE ADDR_GU  \n",
       "1526       0.0        0.0     서초구  \n",
       "1527       0.0        0.0     서초구  "
      ]
     },
     "execution_count": 28,
     "metadata": {},
     "output_type": "execute_result"
    }
   ],
   "source": [
    "df[df['CONTENT_ID']==0]"
   ]
  },
  {
   "cell_type": "code",
   "execution_count": 31,
   "metadata": {},
   "outputs": [],
   "source": [
    "df.loc[1526,'CONTENT_ID'] = 99998 # 임의 변경\n",
    "df.loc[1527,'CONTENT_ID'] = 99999"
   ]
  },
  {
   "cell_type": "code",
   "execution_count": 34,
   "metadata": {},
   "outputs": [],
   "source": [
    "df.to_csv('bike_info_final.csv',index=False)"
   ]
  },
  {
   "cell_type": "code",
   "execution_count": null,
   "metadata": {},
   "outputs": [],
   "source": []
  }
 ],
 "metadata": {
  "kernelspec": {
   "display_name": "Python 3",
   "language": "python",
   "name": "python3"
  },
  "language_info": {
   "codemirror_mode": {
    "name": "ipython",
    "version": 3
   },
   "file_extension": ".py",
   "mimetype": "text/x-python",
   "name": "python",
   "nbconvert_exporter": "python",
   "pygments_lexer": "ipython3",
   "version": "3.6.7"
  }
 },
 "nbformat": 4,
 "nbformat_minor": 2
}
