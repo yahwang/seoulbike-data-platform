{
 "cells": [
  {
   "cell_type": "markdown",
   "metadata": {},
   "source": [
    "## 서울특별시 공공자전거 대여소 정보 "
   ]
  },
  {
   "cell_type": "markdown",
   "metadata": {},
   "source": [
    "API 제공 URL : http://data.seoul.go.kr/dataList/datasetView.do?infId=OA-13252&srvType=S&serviceKind=1&currentPageNo=1&searchValue=&searchKey=null"
   ]
  },
  {
   "cell_type": "markdown",
   "metadata": {},
   "source": [
    "#### Response Example "
   ]
  },
  {
   "cell_type": "code",
   "execution_count": 6,
   "metadata": {},
   "outputs": [
    {
     "data": {
      "text/plain": [
       "{'PublicBicycleRenTIdinfo': {'list_total_count': 1460,\n",
       "  'RESULT': {'CODE': 'INFO-000', 'MESSAGE': '정상 처리되었습니다'},\n",
       "  'row': [{'ADDR_GU': '강남구',\n",
       "    'RENT_ID': 'ST-777',\n",
       "    'CONTENT_ID': '2301',\n",
       "    'CONTENT_NM': '현대고등학교 건너편',\n",
       "    'NEW_ADDR': '서울특별시 강남구 압구정로 134현대고등학교 건너편',\n",
       "    'CRADLE_COUNT': 10.0,\n",
       "    'LATITUDE': 37.524071,\n",
       "    'LONGITUDE': 127.02179},\n",
       "   {'ADDR_GU': '강남구',\n",
       "    'RENT_ID': 'ST-787',\n",
       "    'CONTENT_ID': '2302',\n",
       "    'CONTENT_NM': '교보타워 버스정류장(신논현역 3번출구 후면)',\n",
       "    'NEW_ADDR': '서울특별시 강남구 봉은사로 지하 102교보타워 버스정류장',\n",
       "    'CRADLE_COUNT': 10.0,\n",
       "    'LATITUDE': 37.505581,\n",
       "    'LONGITUDE': 127.024277}]}}"
      ]
     },
     "execution_count": 6,
     "metadata": {},
     "output_type": "execute_result"
    }
   ],
   "source": [
    "ex = {\"PublicBicycleRenTIdinfo\":{\"list_total_count\":1460,\"RESULT\":{\"CODE\":\"INFO-000\",\"MESSAGE\":\"정상 처리되었습니다\"},\"row\":[{\"ADDR_GU\":\"강남구\",\"RENT_ID\":\"ST-777\",\"CONTENT_ID\":\"2301\",\"CONTENT_NM\":\"현대고등학교 건너편\",\"NEW_ADDR\":\"서울특별시 강남구 압구정로 134현대고등학교 건너편\",\"CRADLE_COUNT\":10.0,\"LATITUDE\":37.524071,\"LONGITUDE\":127.02179},{\"ADDR_GU\":\"강남구\",\"RENT_ID\":\"ST-787\",\"CONTENT_ID\":\"2302\",\"CONTENT_NM\":\"교보타워 버스정류장(신논현역 3번출구 후면)\",\"NEW_ADDR\":\"서울특별시 강남구 봉은사로 지하 102교보타워 버스정류장\",\"CRADLE_COUNT\":10.0,\"LATITUDE\":37.505581,\"LONGITUDE\":127.024277}]}}\n",
    "ex"
   ]
  },
  {
   "cell_type": "markdown",
   "metadata": {},
   "source": [
    "#### Response 정보"
   ]
  },
  {
   "cell_type": "markdown",
   "metadata": {},
   "source": [
    "1\tADDR_GU\t구명\n",
    "\n",
    "2\tRENT_ID\t대여소ID\n",
    "\n",
    "3\tCONTENT_ID\t대여소번호\n",
    "\n",
    "4\tCONTENT_NM\t대여소명\n",
    "\n",
    "5\tNEW_ADDR\t대여소 주소\n",
    "\n",
    "6\tCRADLE_COUNT\t거치대수\n",
    "\n",
    "7\tLATITUDE\t위도\n",
    "\n",
    "8\tLONGITUDE\t경도\n"
   ]
  },
  {
   "cell_type": "markdown",
   "metadata": {},
   "source": [
    "### API 활용"
   ]
  },
  {
   "cell_type": "code",
   "execution_count": 1,
   "metadata": {},
   "outputs": [],
   "source": [
    "import requests\n",
    "import json\n",
    "import pandas as pd"
   ]
  },
  {
   "cell_type": "code",
   "execution_count": 2,
   "metadata": {},
   "outputs": [],
   "source": [
    "# 한 번에 최대 1000개 정보 제공\n",
    "auth_key = '6f506b796d68747332396957746263'\n",
    "response = requests.get(f'http://openapi.seoul.go.kr:8088/{auth_key}/json/PublicBicycleRenTIdinfo/1/1000')"
   ]
  },
  {
   "cell_type": "code",
   "execution_count": 3,
   "metadata": {},
   "outputs": [
    {
     "name": "stdout",
     "output_type": "stream",
     "text": [
      "total_bike_loc : 1460\n"
     ]
    }
   ],
   "source": [
    "# 자전거 대여소 총 개수 ( 운영중인 대여소이지만 존재하지 않는 정보도 많음)\n",
    "print(f\"total_bike_loc : {json.loads(response.text)['PublicBicycleRenTIdinfo']['list_total_count']}\")"
   ]
  },
  {
   "cell_type": "code",
   "execution_count": 4,
   "metadata": {},
   "outputs": [],
   "source": [
    "bike_loc_info = json.loads(response.text)['PublicBicycleRenTIdinfo']['row']\n",
    "bike_loc_df1 = pd.DataFrame(bike_loc_info)"
   ]
  },
  {
   "cell_type": "code",
   "execution_count": 6,
   "metadata": {},
   "outputs": [],
   "source": [
    "# 1001 ~\n",
    "response = requests.get(f'http://openapi.seoul.go.kr:8088/{auth_key}/json/PublicBicycleRenTIdinfo/1001/2000')\n",
    "bike_loc_info = json.loads(response.text)['PublicBicycleRenTIdinfo']['row']\n",
    "bike_loc_df2 = pd.DataFrame(bike_loc_info)"
   ]
  },
  {
   "cell_type": "code",
   "execution_count": 7,
   "metadata": {},
   "outputs": [],
   "source": [
    "bike_loc_df = pd.concat([bike_loc_df1, bike_loc_df2], ignore_index=True) # 데이터 결합"
   ]
  },
  {
   "cell_type": "code",
   "execution_count": 9,
   "metadata": {},
   "outputs": [
    {
     "name": "stdout",
     "output_type": "stream",
     "text": [
      "<class 'pandas.core.frame.DataFrame'>\n",
      "RangeIndex: 1460 entries, 0 to 1459\n",
      "Data columns (total 8 columns):\n",
      "ADDR_GU         1460 non-null object\n",
      "CONTENT_ID      1460 non-null object\n",
      "CONTENT_NM      1460 non-null object\n",
      "CRADLE_COUNT    1460 non-null float64\n",
      "LATITUDE        1460 non-null float64\n",
      "LONGITUDE       1460 non-null float64\n",
      "NEW_ADDR        1460 non-null object\n",
      "RENT_ID         1460 non-null object\n",
      "dtypes: float64(3), object(5)\n",
      "memory usage: 91.3+ KB\n"
     ]
    }
   ],
   "source": [
    "bike_loc_df.info()"
   ]
  },
  {
   "cell_type": "code",
   "execution_count": 10,
   "metadata": {},
   "outputs": [
    {
     "data": {
      "text/html": [
       "<div>\n",
       "<style scoped>\n",
       "    .dataframe tbody tr th:only-of-type {\n",
       "        vertical-align: middle;\n",
       "    }\n",
       "\n",
       "    .dataframe tbody tr th {\n",
       "        vertical-align: top;\n",
       "    }\n",
       "\n",
       "    .dataframe thead th {\n",
       "        text-align: right;\n",
       "    }\n",
       "</style>\n",
       "<table border=\"1\" class=\"dataframe\">\n",
       "  <thead>\n",
       "    <tr style=\"text-align: right;\">\n",
       "      <th></th>\n",
       "      <th>ADDR_GU</th>\n",
       "      <th>CONTENT_ID</th>\n",
       "      <th>CONTENT_NM</th>\n",
       "      <th>CRADLE_COUNT</th>\n",
       "      <th>LATITUDE</th>\n",
       "      <th>LONGITUDE</th>\n",
       "      <th>NEW_ADDR</th>\n",
       "      <th>RENT_ID</th>\n",
       "    </tr>\n",
       "  </thead>\n",
       "  <tbody>\n",
       "    <tr>\n",
       "      <th>0</th>\n",
       "      <td>강남구</td>\n",
       "      <td>2301</td>\n",
       "      <td>현대고등학교 건너편</td>\n",
       "      <td>10.0</td>\n",
       "      <td>37.524071</td>\n",
       "      <td>127.021790</td>\n",
       "      <td>서울특별시 강남구 압구정로 134현대고등학교 건너편</td>\n",
       "      <td>ST-777</td>\n",
       "    </tr>\n",
       "    <tr>\n",
       "      <th>1</th>\n",
       "      <td>강남구</td>\n",
       "      <td>2302</td>\n",
       "      <td>교보타워 버스정류장(신논현역 3번출구 후면)</td>\n",
       "      <td>10.0</td>\n",
       "      <td>37.505581</td>\n",
       "      <td>127.024277</td>\n",
       "      <td>서울특별시 강남구 봉은사로 지하 102교보타워 버스정류장</td>\n",
       "      <td>ST-787</td>\n",
       "    </tr>\n",
       "    <tr>\n",
       "      <th>2</th>\n",
       "      <td>강남구</td>\n",
       "      <td>2303</td>\n",
       "      <td>논현역 7번출구</td>\n",
       "      <td>15.0</td>\n",
       "      <td>37.511517</td>\n",
       "      <td>127.021477</td>\n",
       "      <td>서울특별시 강남구 학동로 지하 102논현역 7번출구</td>\n",
       "      <td>ST-788</td>\n",
       "    </tr>\n",
       "    <tr>\n",
       "      <th>3</th>\n",
       "      <td>강남구</td>\n",
       "      <td>2304</td>\n",
       "      <td>신영 ROYAL PALACE 앞</td>\n",
       "      <td>10.0</td>\n",
       "      <td>37.512527</td>\n",
       "      <td>127.035835</td>\n",
       "      <td>서울특별시 강남구 언주로 626신영 ROYAL PALACE앞</td>\n",
       "      <td>ST-789</td>\n",
       "    </tr>\n",
       "    <tr>\n",
       "      <th>4</th>\n",
       "      <td>강남구</td>\n",
       "      <td>2305</td>\n",
       "      <td>MCM 본사 직영점 앞</td>\n",
       "      <td>10.0</td>\n",
       "      <td>37.520641</td>\n",
       "      <td>127.034508</td>\n",
       "      <td>서울특별시 강남구 언주로 734MCM 본사 직영점 앞</td>\n",
       "      <td>ST-790</td>\n",
       "    </tr>\n",
       "  </tbody>\n",
       "</table>\n",
       "</div>"
      ],
      "text/plain": [
       "  ADDR_GU CONTENT_ID                CONTENT_NM  CRADLE_COUNT   LATITUDE  \\\n",
       "0     강남구       2301                현대고등학교 건너편          10.0  37.524071   \n",
       "1     강남구       2302  교보타워 버스정류장(신논현역 3번출구 후면)          10.0  37.505581   \n",
       "2     강남구       2303                  논현역 7번출구          15.0  37.511517   \n",
       "3     강남구       2304         신영 ROYAL PALACE 앞          10.0  37.512527   \n",
       "4     강남구       2305              MCM 본사 직영점 앞          10.0  37.520641   \n",
       "\n",
       "    LONGITUDE                           NEW_ADDR RENT_ID  \n",
       "0  127.021790       서울특별시 강남구 압구정로 134현대고등학교 건너편  ST-777  \n",
       "1  127.024277    서울특별시 강남구 봉은사로 지하 102교보타워 버스정류장  ST-787  \n",
       "2  127.021477       서울특별시 강남구 학동로 지하 102논현역 7번출구  ST-788  \n",
       "3  127.035835  서울특별시 강남구 언주로 626신영 ROYAL PALACE앞  ST-789  \n",
       "4  127.034508      서울특별시 강남구 언주로 734MCM 본사 직영점 앞  ST-790  "
      ]
     },
     "execution_count": 10,
     "metadata": {},
     "output_type": "execute_result"
    }
   ],
   "source": [
    "bike_loc_df.head()"
   ]
  },
  {
   "cell_type": "code",
   "execution_count": 11,
   "metadata": {},
   "outputs": [],
   "source": [
    "bike_loc_df.to_csv('bike_loc_info.csv', index=False)"
   ]
  }
 ],
 "metadata": {
  "kernelspec": {
   "display_name": "Python 3",
   "language": "python",
   "name": "python3"
  },
  "language_info": {
   "codemirror_mode": {
    "name": "ipython",
    "version": 3
   },
   "file_extension": ".py",
   "mimetype": "text/x-python",
   "name": "python",
   "nbconvert_exporter": "python",
   "pygments_lexer": "ipython3",
   "version": "3.6.7"
  }
 },
 "nbformat": 4,
 "nbformat_minor": 2
}
