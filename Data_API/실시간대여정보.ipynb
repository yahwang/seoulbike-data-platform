{
 "cells": [
  {
   "cell_type": "markdown",
   "metadata": {},
   "source": [
    "## 서울특별시 공공자전거 실시간 대여정보"
   ]
  },
  {
   "cell_type": "markdown",
   "metadata": {},
   "source": [
    "API 제공 URL : http://data.seoul.go.kr/dataList/datasetView.do?infId=OA-15493&srvType=A&serviceKind=1"
   ]
  },
  {
   "cell_type": "markdown",
   "metadata": {},
   "source": [
    "#### response example"
   ]
  },
  {
   "cell_type": "code",
   "execution_count": 5,
   "metadata": {},
   "outputs": [
    {
     "data": {
      "text/plain": [
       "{'rentBikeStatus': {'list_total_count': 2,\n",
       "  'RESULT': {'CODE': 'INFO-000', 'MESSAGE': '정상 처리되었습니다.'},\n",
       "  'row': [{'rackTotCnt': '10',\n",
       "    'stationName': '108. 서교동 사거리',\n",
       "    'parkingBikeTotCnt': '0',\n",
       "    'shared': '0',\n",
       "    'stationLatitude': '37.552746',\n",
       "    'stationLongitude': '126.918617',\n",
       "    'stationId': 'ST-10'},\n",
       "   {'rackTotCnt': '15',\n",
       "    'stationName': '503. 더샵스타시티 C동 앞',\n",
       "    'parkingBikeTotCnt': '3',\n",
       "    'shared': '20',\n",
       "    'stationLatitude': '37.536667',\n",
       "    'stationLongitude': '127.073593',\n",
       "    'stationId': 'ST-100'}]}}"
      ]
     },
     "execution_count": 5,
     "metadata": {},
     "output_type": "execute_result"
    }
   ],
   "source": [
    "ex = {\"rentBikeStatus\":{\"list_total_count\":2,\"RESULT\":{\"CODE\":\"INFO-000\",\"MESSAGE\":\"정상 처리되었습니다.\"},\"row\":[{\"rackTotCnt\":\"10\",\"stationName\":\"108. 서교동 사거리\",\"parkingBikeTotCnt\":\"0\",\"shared\":\"0\",\"stationLatitude\":\"37.552746\",\"stationLongitude\":\"126.918617\",\"stationId\":\"ST-10\"},{\"rackTotCnt\":\"15\",\"stationName\":\"503. 더샵스타시티 C동 앞\",\"parkingBikeTotCnt\":\"3\",\"shared\":\"20\",\"stationLatitude\":\"37.536667\",\"stationLongitude\":\"127.073593\",\"stationId\":\"ST-100\"}]}}\n",
    "ex"
   ]
  },
  {
   "cell_type": "markdown",
   "metadata": {},
   "source": [
    "#### response 정보"
   ]
  },
  {
   "cell_type": "markdown",
   "metadata": {},
   "source": [
    "1\trackTotCnt\t거치대개수\n",
    "\n",
    "2\tstationName\t대여소이름\n",
    "\n",
    "3\tparkingBikeTotCnt\t자전거주차총건수\n",
    "\n",
    "4\tshared\t거치율\n",
    "\n",
    "5\tstationLatitude\t위도\n",
    "\n",
    "6\tstationLongitude\t경도\n",
    "\n",
    "7\tstationId\t대여소ID"
   ]
  },
  {
   "cell_type": "markdown",
   "metadata": {},
   "source": [
    "### API를 활용하여 실시간 운영중인 대여소 추출"
   ]
  },
  {
   "cell_type": "code",
   "execution_count": 1,
   "metadata": {},
   "outputs": [],
   "source": [
    "import requests\n",
    "import json\n",
    "import pandas as pd"
   ]
  },
  {
   "cell_type": "code",
   "execution_count": 2,
   "metadata": {},
   "outputs": [],
   "source": [
    "# 한 번에 최대 1000개 정보 제공\n",
    "auth_key = '6f506b796d68747332396957746263'\n",
    "response = requests.get(f'http://openapi.seoul.go.kr:8088/{auth_key}/json/bikeList/1/1000')"
   ]
  },
  {
   "cell_type": "code",
   "execution_count": 3,
   "metadata": {},
   "outputs": [],
   "source": [
    "bike_rent_info = json.loads(response.text)['rentBikeStatus']['row']\n",
    "bike_rent_df1 = pd.DataFrame(bike_rent_info)"
   ]
  },
  {
   "cell_type": "code",
   "execution_count": 7,
   "metadata": {},
   "outputs": [],
   "source": [
    "# 1001 ~\n",
    "response = requests.get(f'http://openapi.seoul.go.kr:8088/{auth_key}/json/bikeList/1001/2000')\n",
    "bike_rent_info = json.loads(response.text)['rentBikeStatus']['row']\n",
    "bike_rent_df2 = pd.DataFrame(bike_rent_info)"
   ]
  },
  {
   "cell_type": "code",
   "execution_count": 8,
   "metadata": {},
   "outputs": [],
   "source": [
    "bike_rent_df = pd.concat([bike_rent_df1, bike_rent_df2], ignore_index=True) # 데이터 결합"
   ]
  },
  {
   "cell_type": "code",
   "execution_count": 9,
   "metadata": {},
   "outputs": [
    {
     "data": {
      "text/html": [
       "<div>\n",
       "<style scoped>\n",
       "    .dataframe tbody tr th:only-of-type {\n",
       "        vertical-align: middle;\n",
       "    }\n",
       "\n",
       "    .dataframe tbody tr th {\n",
       "        vertical-align: top;\n",
       "    }\n",
       "\n",
       "    .dataframe thead th {\n",
       "        text-align: right;\n",
       "    }\n",
       "</style>\n",
       "<table border=\"1\" class=\"dataframe\">\n",
       "  <thead>\n",
       "    <tr style=\"text-align: right;\">\n",
       "      <th></th>\n",
       "      <th>parkingBikeTotCnt</th>\n",
       "      <th>rackTotCnt</th>\n",
       "      <th>shared</th>\n",
       "      <th>stationId</th>\n",
       "      <th>stationLatitude</th>\n",
       "      <th>stationLongitude</th>\n",
       "      <th>stationName</th>\n",
       "    </tr>\n",
       "  </thead>\n",
       "  <tbody>\n",
       "    <tr>\n",
       "      <th>0</th>\n",
       "      <td>9</td>\n",
       "      <td>5</td>\n",
       "      <td>180</td>\n",
       "      <td>ST-3</td>\n",
       "      <td>37.549561</td>\n",
       "      <td>126.905754</td>\n",
       "      <td>101. (구)합정동 주민센터</td>\n",
       "    </tr>\n",
       "    <tr>\n",
       "      <th>1</th>\n",
       "      <td>4</td>\n",
       "      <td>20</td>\n",
       "      <td>20</td>\n",
       "      <td>ST-4</td>\n",
       "      <td>37.555649</td>\n",
       "      <td>126.910629</td>\n",
       "      <td>102. 망원역 1번출구 앞</td>\n",
       "    </tr>\n",
       "    <tr>\n",
       "      <th>2</th>\n",
       "      <td>3</td>\n",
       "      <td>15</td>\n",
       "      <td>20</td>\n",
       "      <td>ST-1040</td>\n",
       "      <td>37.549999</td>\n",
       "      <td>127.174690</td>\n",
       "      <td>1023. 한국종합기술사옥 앞</td>\n",
       "    </tr>\n",
       "    <tr>\n",
       "      <th>3</th>\n",
       "      <td>6</td>\n",
       "      <td>10</td>\n",
       "      <td>60</td>\n",
       "      <td>ST-1041</td>\n",
       "      <td>37.529251</td>\n",
       "      <td>127.123108</td>\n",
       "      <td>1024.  강동구청 앞</td>\n",
       "    </tr>\n",
       "    <tr>\n",
       "      <th>4</th>\n",
       "      <td>16</td>\n",
       "      <td>10</td>\n",
       "      <td>160</td>\n",
       "      <td>ST-1042</td>\n",
       "      <td>37.546841</td>\n",
       "      <td>127.172516</td>\n",
       "      <td>1025. 상일초등학교</td>\n",
       "    </tr>\n",
       "  </tbody>\n",
       "</table>\n",
       "</div>"
      ],
      "text/plain": [
       "  parkingBikeTotCnt rackTotCnt shared stationId stationLatitude  \\\n",
       "0                 9          5    180      ST-3       37.549561   \n",
       "1                 4         20     20      ST-4       37.555649   \n",
       "2                 3         15     20   ST-1040       37.549999   \n",
       "3                 6         10     60   ST-1041       37.529251   \n",
       "4                16         10    160   ST-1042       37.546841   \n",
       "\n",
       "  stationLongitude       stationName  \n",
       "0       126.905754  101. (구)합정동 주민센터  \n",
       "1       126.910629   102. 망원역 1번출구 앞  \n",
       "2       127.174690  1023. 한국종합기술사옥 앞  \n",
       "3       127.123108     1024.  강동구청 앞  \n",
       "4       127.172516      1025. 상일초등학교  "
      ]
     },
     "execution_count": 9,
     "metadata": {},
     "output_type": "execute_result"
    }
   ],
   "source": [
    "bike_rent_df.head()"
   ]
  },
  {
   "cell_type": "code",
   "execution_count": 12,
   "metadata": {},
   "outputs": [],
   "source": [
    "# station Name에서 번호만 추출\n",
    "def extract_content_id(station_name): \n",
    "    if '.' in station_name:\n",
    "        res = station_name.split('.')[0]\n",
    "    else:\n",
    "        res = 0\n",
    "    return res\n",
    "\n",
    "bike_rent_df['CONTENT_ID'] = bike_rent_df['stationName'].map(extract_content_id)"
   ]
  },
  {
   "cell_type": "code",
   "execution_count": 14,
   "metadata": {},
   "outputs": [],
   "source": [
    "# station Name에서 번호 제거\n",
    "def extract_name(station_name):\n",
    "    return station_name.split('.')[-1].lstrip()\n",
    "\n",
    "bike_rent_df['stationName'] = bike_rent_df['stationName'].map(extract_name)"
   ]
  },
  {
   "cell_type": "code",
   "execution_count": 15,
   "metadata": {},
   "outputs": [
    {
     "data": {
      "text/html": [
       "<div>\n",
       "<style scoped>\n",
       "    .dataframe tbody tr th:only-of-type {\n",
       "        vertical-align: middle;\n",
       "    }\n",
       "\n",
       "    .dataframe tbody tr th {\n",
       "        vertical-align: top;\n",
       "    }\n",
       "\n",
       "    .dataframe thead th {\n",
       "        text-align: right;\n",
       "    }\n",
       "</style>\n",
       "<table border=\"1\" class=\"dataframe\">\n",
       "  <thead>\n",
       "    <tr style=\"text-align: right;\">\n",
       "      <th></th>\n",
       "      <th>parkingBikeTotCnt</th>\n",
       "      <th>rackTotCnt</th>\n",
       "      <th>shared</th>\n",
       "      <th>stationId</th>\n",
       "      <th>stationLatitude</th>\n",
       "      <th>stationLongitude</th>\n",
       "      <th>stationName</th>\n",
       "      <th>CONTENT_ID</th>\n",
       "    </tr>\n",
       "  </thead>\n",
       "  <tbody>\n",
       "    <tr>\n",
       "      <th>0</th>\n",
       "      <td>9</td>\n",
       "      <td>5</td>\n",
       "      <td>180</td>\n",
       "      <td>ST-3</td>\n",
       "      <td>37.549561</td>\n",
       "      <td>126.905754</td>\n",
       "      <td>(구)합정동 주민센터</td>\n",
       "      <td>101</td>\n",
       "    </tr>\n",
       "    <tr>\n",
       "      <th>1</th>\n",
       "      <td>4</td>\n",
       "      <td>20</td>\n",
       "      <td>20</td>\n",
       "      <td>ST-4</td>\n",
       "      <td>37.555649</td>\n",
       "      <td>126.910629</td>\n",
       "      <td>망원역 1번출구 앞</td>\n",
       "      <td>102</td>\n",
       "    </tr>\n",
       "    <tr>\n",
       "      <th>2</th>\n",
       "      <td>3</td>\n",
       "      <td>15</td>\n",
       "      <td>20</td>\n",
       "      <td>ST-1040</td>\n",
       "      <td>37.549999</td>\n",
       "      <td>127.174690</td>\n",
       "      <td>한국종합기술사옥 앞</td>\n",
       "      <td>1023</td>\n",
       "    </tr>\n",
       "    <tr>\n",
       "      <th>3</th>\n",
       "      <td>6</td>\n",
       "      <td>10</td>\n",
       "      <td>60</td>\n",
       "      <td>ST-1041</td>\n",
       "      <td>37.529251</td>\n",
       "      <td>127.123108</td>\n",
       "      <td>강동구청 앞</td>\n",
       "      <td>1024</td>\n",
       "    </tr>\n",
       "    <tr>\n",
       "      <th>4</th>\n",
       "      <td>16</td>\n",
       "      <td>10</td>\n",
       "      <td>160</td>\n",
       "      <td>ST-1042</td>\n",
       "      <td>37.546841</td>\n",
       "      <td>127.172516</td>\n",
       "      <td>상일초등학교</td>\n",
       "      <td>1025</td>\n",
       "    </tr>\n",
       "  </tbody>\n",
       "</table>\n",
       "</div>"
      ],
      "text/plain": [
       "  parkingBikeTotCnt rackTotCnt shared stationId stationLatitude  \\\n",
       "0                 9          5    180      ST-3       37.549561   \n",
       "1                 4         20     20      ST-4       37.555649   \n",
       "2                 3         15     20   ST-1040       37.549999   \n",
       "3                 6         10     60   ST-1041       37.529251   \n",
       "4                16         10    160   ST-1042       37.546841   \n",
       "\n",
       "  stationLongitude  stationName CONTENT_ID  \n",
       "0       126.905754  (구)합정동 주민센터        101  \n",
       "1       126.910629   망원역 1번출구 앞        102  \n",
       "2       127.174690   한국종합기술사옥 앞       1023  \n",
       "3       127.123108       강동구청 앞       1024  \n",
       "4       127.172516       상일초등학교       1025  "
      ]
     },
     "execution_count": 15,
     "metadata": {},
     "output_type": "execute_result"
    }
   ],
   "source": [
    "bike_rent_df.head()"
   ]
  },
  {
   "cell_type": "code",
   "execution_count": 16,
   "metadata": {},
   "outputs": [
    {
     "name": "stdout",
     "output_type": "stream",
     "text": [
      "<class 'pandas.core.frame.DataFrame'>\n",
      "RangeIndex: 1529 entries, 0 to 1528\n",
      "Data columns (total 8 columns):\n",
      "parkingBikeTotCnt    1529 non-null object\n",
      "rackTotCnt           1529 non-null object\n",
      "shared               1529 non-null object\n",
      "stationId            1529 non-null object\n",
      "stationLatitude      1529 non-null object\n",
      "stationLongitude     1529 non-null object\n",
      "stationName          1529 non-null object\n",
      "CONTENT_ID           1529 non-null object\n",
      "dtypes: object(8)\n",
      "memory usage: 95.6+ KB\n"
     ]
    }
   ],
   "source": [
    "bike_rent_df.info()"
   ]
  },
  {
   "cell_type": "markdown",
   "metadata": {},
   "source": [
    "2019-05-22 기준 1529 개"
   ]
  }
 ],
 "metadata": {
  "kernelspec": {
   "display_name": "Python 3",
   "language": "python",
   "name": "python3"
  },
  "language_info": {
   "codemirror_mode": {
    "name": "ipython",
    "version": 3
   },
   "file_extension": ".py",
   "mimetype": "text/x-python",
   "name": "python",
   "nbconvert_exporter": "python",
   "pygments_lexer": "ipython3",
   "version": "3.6.7"
  }
 },
 "nbformat": 4,
 "nbformat_minor": 2
}
